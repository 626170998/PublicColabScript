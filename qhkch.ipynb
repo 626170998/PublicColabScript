{
  "nbformat": 4,
  "nbformat_minor": 0,
  "metadata": {
    "colab": {
      "provenance": [],
      "authorship_tag": "ABX9TyNqUGoccPfLmWsvo11tpl4G",
      "include_colab_link": true
    },
    "kernelspec": {
      "name": "python3",
      "display_name": "Python 3"
    },
    "language_info": {
      "name": "python"
    }
  },
  "cells": [
    {
      "cell_type": "markdown",
      "metadata": {
        "id": "view-in-github",
        "colab_type": "text"
      },
      "source": [
        "<a href=\"https://colab.research.google.com/github/626170998/ColabScript/blob/master/qhkch.ipynb\" target=\"_parent\"><img src=\"https://colab.research.google.com/assets/colab-badge.svg\" alt=\"Open In Colab\"/></a>"
      ]
    },
    {
      "cell_type": "code",
      "execution_count": 1,
      "metadata": {
        "colab": {
          "base_uri": "https://localhost:8080/"
        },
        "id": "2r5DC4TKPrCY",
        "outputId": "6f5c3fde-2382-4180-8cdc-5d796700b268"
      },
      "outputs": [
        {
          "output_type": "stream",
          "name": "stdout",
          "text": [
            "\u001b[33mWARNING: Package(s) not found: webdriver-manager\u001b[0m\u001b[33m\n",
            "\u001b[0mCollecting google-colab-selenium[undetected]\n",
            "  Downloading google_colab_selenium-1.0.10-py3-none-any.whl (8.0 kB)\n",
            "Collecting selenium (from google-colab-selenium[undetected])\n",
            "  Downloading selenium-4.15.2-py3-none-any.whl (10.2 MB)\n",
            "\u001b[2K     \u001b[90m━━━━━━━━━━━━━━━━━━━━━━━━━━━━━━━━━━━━━━━━\u001b[0m \u001b[32m10.2/10.2 MB\u001b[0m \u001b[31m59.1 MB/s\u001b[0m eta \u001b[36m0:00:00\u001b[0m\n",
            "\u001b[?25hCollecting undetected-chromedriver (from google-colab-selenium[undetected])\n",
            "  Downloading undetected-chromedriver-3.5.4.tar.gz (65 kB)\n",
            "\u001b[2K     \u001b[90m━━━━━━━━━━━━━━━━━━━━━━━━━━━━━━━━━━━━━━━━\u001b[0m \u001b[32m65.4/65.4 kB\u001b[0m \u001b[31m8.7 MB/s\u001b[0m eta \u001b[36m0:00:00\u001b[0m\n",
            "\u001b[?25h  Preparing metadata (setup.py) ... \u001b[?25l\u001b[?25hdone\n",
            "Requirement already satisfied: urllib3[socks]<3,>=1.26 in /usr/local/lib/python3.10/dist-packages (from selenium->google-colab-selenium[undetected]) (2.0.7)\n",
            "Collecting trio~=0.17 (from selenium->google-colab-selenium[undetected])\n",
            "  Downloading trio-0.23.1-py3-none-any.whl (448 kB)\n",
            "\u001b[2K     \u001b[90m━━━━━━━━━━━━━━━━━━━━━━━━━━━━━━━━━━━━━━━━\u001b[0m \u001b[32m448.3/448.3 kB\u001b[0m \u001b[31m44.4 MB/s\u001b[0m eta \u001b[36m0:00:00\u001b[0m\n",
            "\u001b[?25hCollecting trio-websocket~=0.9 (from selenium->google-colab-selenium[undetected])\n",
            "  Downloading trio_websocket-0.11.1-py3-none-any.whl (17 kB)\n",
            "Requirement already satisfied: certifi>=2021.10.8 in /usr/local/lib/python3.10/dist-packages (from selenium->google-colab-selenium[undetected]) (2023.11.17)\n",
            "Requirement already satisfied: requests in /usr/local/lib/python3.10/dist-packages (from undetected-chromedriver->google-colab-selenium[undetected]) (2.31.0)\n",
            "Collecting websockets (from undetected-chromedriver->google-colab-selenium[undetected])\n",
            "  Downloading websockets-12.0-cp310-cp310-manylinux_2_5_x86_64.manylinux1_x86_64.manylinux_2_17_x86_64.manylinux2014_x86_64.whl (130 kB)\n",
            "\u001b[2K     \u001b[90m━━━━━━━━━━━━━━━━━━━━━━━━━━━━━━━━━━━━━━━━\u001b[0m \u001b[32m130.2/130.2 kB\u001b[0m \u001b[31m17.4 MB/s\u001b[0m eta \u001b[36m0:00:00\u001b[0m\n",
            "\u001b[?25hRequirement already satisfied: attrs>=20.1.0 in /usr/local/lib/python3.10/dist-packages (from trio~=0.17->selenium->google-colab-selenium[undetected]) (23.1.0)\n",
            "Requirement already satisfied: sortedcontainers in /usr/local/lib/python3.10/dist-packages (from trio~=0.17->selenium->google-colab-selenium[undetected]) (2.4.0)\n",
            "Requirement already satisfied: idna in /usr/local/lib/python3.10/dist-packages (from trio~=0.17->selenium->google-colab-selenium[undetected]) (3.6)\n",
            "Collecting outcome (from trio~=0.17->selenium->google-colab-selenium[undetected])\n",
            "  Downloading outcome-1.3.0.post0-py2.py3-none-any.whl (10 kB)\n",
            "Requirement already satisfied: sniffio>=1.3.0 in /usr/local/lib/python3.10/dist-packages (from trio~=0.17->selenium->google-colab-selenium[undetected]) (1.3.0)\n",
            "Requirement already satisfied: exceptiongroup>=1.0.0rc9 in /usr/local/lib/python3.10/dist-packages (from trio~=0.17->selenium->google-colab-selenium[undetected]) (1.2.0)\n",
            "Collecting wsproto>=0.14 (from trio-websocket~=0.9->selenium->google-colab-selenium[undetected])\n",
            "  Downloading wsproto-1.2.0-py3-none-any.whl (24 kB)\n",
            "Requirement already satisfied: pysocks!=1.5.7,<2.0,>=1.5.6 in /usr/local/lib/python3.10/dist-packages (from urllib3[socks]<3,>=1.26->selenium->google-colab-selenium[undetected]) (1.7.1)\n",
            "Requirement already satisfied: charset-normalizer<4,>=2 in /usr/local/lib/python3.10/dist-packages (from requests->undetected-chromedriver->google-colab-selenium[undetected]) (3.3.2)\n",
            "Collecting h11<1,>=0.9.0 (from wsproto>=0.14->trio-websocket~=0.9->selenium->google-colab-selenium[undetected])\n",
            "  Downloading h11-0.14.0-py3-none-any.whl (58 kB)\n",
            "\u001b[2K     \u001b[90m━━━━━━━━━━━━━━━━━━━━━━━━━━━━━━━━━━━━━━━━\u001b[0m \u001b[32m58.3/58.3 kB\u001b[0m \u001b[31m6.8 MB/s\u001b[0m eta \u001b[36m0:00:00\u001b[0m\n",
            "\u001b[?25hBuilding wheels for collected packages: undetected-chromedriver\n",
            "  Building wheel for undetected-chromedriver (setup.py) ... \u001b[?25l\u001b[?25hdone\n",
            "  Created wheel for undetected-chromedriver: filename=undetected_chromedriver-3.5.4-py3-none-any.whl size=47055 sha256=cf47d5d033d3561a62e9c11f05b755edcfaa7609990735fa1caaff875e53d8d2\n",
            "  Stored in directory: /root/.cache/pip/wheels/0c/a6/72/5c948853baf75d52f1da173bd8fc9d7ad7615608e0ffaead6d\n",
            "Successfully built undetected-chromedriver\n",
            "Installing collected packages: websockets, outcome, h11, wsproto, trio, trio-websocket, selenium, undetected-chromedriver, google-colab-selenium\n",
            "Successfully installed google-colab-selenium-1.0.10 h11-0.14.0 outcome-1.3.0.post0 selenium-4.15.2 trio-0.23.1 trio-websocket-0.11.1 undetected-chromedriver-3.5.4 websockets-12.0 wsproto-1.2.0\n"
          ]
        }
      ],
      "source": [
        "!pip show webdriver-manager\n",
        "%pip install google-colab-selenium[undetected]"
      ]
    },
    {
      "cell_type": "code",
      "source": [
        "import google_colab_selenium\n",
        "\n",
        "from selenium.webdriver.common.by import By\n",
        "from selenium.webdriver.common.keys import Keys\n",
        "from selenium.webdriver.support import expected_conditions as EC\n",
        "from selenium.webdriver.support.wait import WebDriverWait\n",
        "import time"
      ],
      "metadata": {
        "id": "gaqHshRTQmgh"
      },
      "execution_count": 2,
      "outputs": []
    },
    {
      "cell_type": "code",
      "source": [
        "import google_colab_selenium as gs\n",
        "\n",
        "driver = gs.Chrome()\n",
        "# Your code to interact with the driver here\n",
        "# ...\n",
        "driver.quit()"
      ],
      "metadata": {
        "colab": {
          "base_uri": "https://localhost:8080/",
          "height": 59
        },
        "id": "JsDdOg3EtDCW",
        "outputId": "47fe7a25-b46d-4706-caff-d1317e5a6e8d"
      },
      "execution_count": 3,
      "outputs": [
        {
          "output_type": "display_data",
          "data": {
            "text/plain": [
              "<IPython.core.display.HTML object>"
            ],
            "text/html": [
              "\n",
              "            <div class=\"spinner-container\">\n",
              "                <div class=\"spinner\" id=\"6c4f8cc9-bcf1-41c4-b2ff-1ad915de3141-circle\"></div>\n",
              "                <div class=\"spinner-text\" id=\"6c4f8cc9-bcf1-41c4-b2ff-1ad915de3141-text\">Downloading Google Chrome</div>\n",
              "            </div>\n",
              "            <style>\n",
              "                @keyframes spin {\n",
              "                    from { transform: rotate(0deg); }\n",
              "                    to { transform: rotate(360deg); }\n",
              "                }\n",
              "\n",
              "                .spinner-container {\n",
              "                    display: flex;\n",
              "                    align-items: center;\n",
              "                    margin-bottom: 3px;\n",
              "                }\n",
              "\n",
              "                .spinner {\n",
              "                    border: 3px solid rgba(0, 0, 0, 0.1);\n",
              "                    border-left-color: lightblue;\n",
              "                    border-radius: 50%;\n",
              "                    width: 12px;\n",
              "                    height: 12px;\n",
              "                    animation: spin 1s linear infinite;\n",
              "                }\n",
              "\n",
              "                .spinner-text {\n",
              "                    padding-left: 6px;\n",
              "                }\n",
              "            </style>\n",
              "        "
            ]
          },
          "metadata": {}
        },
        {
          "output_type": "display_data",
          "data": {
            "text/plain": [
              "<IPython.core.display.Javascript object>"
            ],
            "application/javascript": [
              "\n",
              "            const element = document.getElementById(\"6c4f8cc9-bcf1-41c4-b2ff-1ad915de3141-circle\");\n",
              "            element.style.border = \"3px solid limegreen\";\n",
              "            element.style.animation = \"none\";\n",
              "\n",
              "            const text = document.getElementById(\"6c4f8cc9-bcf1-41c4-b2ff-1ad915de3141-text\");\n",
              "            text.innerText = \"Downloaded Google Chrome\";\n",
              "        "
            ]
          },
          "metadata": {}
        },
        {
          "output_type": "display_data",
          "data": {
            "text/plain": [
              "<IPython.core.display.HTML object>"
            ],
            "text/html": [
              "\n",
              "            <div class=\"spinner-container\">\n",
              "                <div class=\"spinner\" id=\"999215e5-d44f-4480-b0e3-8913c1195ef8-circle\"></div>\n",
              "                <div class=\"spinner-text\" id=\"999215e5-d44f-4480-b0e3-8913c1195ef8-text\">Initializing Chromedriver</div>\n",
              "            </div>\n",
              "            <style>\n",
              "                @keyframes spin {\n",
              "                    from { transform: rotate(0deg); }\n",
              "                    to { transform: rotate(360deg); }\n",
              "                }\n",
              "\n",
              "                .spinner-container {\n",
              "                    display: flex;\n",
              "                    align-items: center;\n",
              "                    margin-bottom: 3px;\n",
              "                }\n",
              "\n",
              "                .spinner {\n",
              "                    border: 3px solid rgba(0, 0, 0, 0.1);\n",
              "                    border-left-color: lightblue;\n",
              "                    border-radius: 50%;\n",
              "                    width: 12px;\n",
              "                    height: 12px;\n",
              "                    animation: spin 1s linear infinite;\n",
              "                }\n",
              "\n",
              "                .spinner-text {\n",
              "                    padding-left: 6px;\n",
              "                }\n",
              "            </style>\n",
              "        "
            ]
          },
          "metadata": {}
        },
        {
          "output_type": "display_data",
          "data": {
            "text/plain": [
              "<IPython.core.display.Javascript object>"
            ],
            "application/javascript": [
              "\n",
              "            const element = document.getElementById(\"999215e5-d44f-4480-b0e3-8913c1195ef8-circle\");\n",
              "            element.style.border = \"3px solid limegreen\";\n",
              "            element.style.animation = \"none\";\n",
              "\n",
              "            const text = document.getElementById(\"999215e5-d44f-4480-b0e3-8913c1195ef8-text\");\n",
              "            text.innerText = \"Initialized Chromedriver\";\n",
              "        "
            ]
          },
          "metadata": {}
        }
      ]
    },
    {
      "cell_type": "code",
      "source": [
        "def convertins(i):\n",
        "  if(i.find('纸浆')!=-1):\n",
        "    return 'SP'\n",
        "  if(i.find('原油')!=-1):\n",
        "    return 'SC'\n",
        "  if(i.find('沥青')!=-1):\n",
        "    return 'BU'\n",
        "  if(i.find('橡胶')!=-1):\n",
        "    return 'RU'\n",
        "  if(i.find('燃油')!=-1):\n",
        "    return 'FU'\n",
        "  if(i.find('燃料油')!=-1):\n",
        "    return 'FU'\n",
        "  if(i.find('PVC')!=-1):\n",
        "    return 'V'\n",
        "  if(i.find('PTA')!=-1):\n",
        "    return 'TA'\n",
        "  if(i.find('塑料')!=-1):\n",
        "    return 'L'\n",
        "  if(i.find('PP')!=-1):\n",
        "    return 'PP'\n",
        "  if(i.find('LPG')!=-1):\n",
        "    return 'PG'\n",
        "  if(i.find('沪铜')!=-1):\n",
        "    return 'CU'\n",
        "  if(i.find('菜粕')!=-1):\n",
        "    return 'RM'\n",
        "  if(i.find('棕槁油')!=-1):\n",
        "    return 'P'\n",
        "  if(i.find('豆油')!=-1):\n",
        "    return 'Y'\n",
        "  if(i.find('生猪')!=-1):\n",
        "    return 'LH'\n",
        "  if(i.find('苹果')!=-1):\n",
        "    return 'AP'\n",
        "  if(i.find('鸡蛋')!=-1):\n",
        "    return 'JD'\n",
        "  if(i.find('IF')!=-1):\n",
        "    return 'IF'\n",
        "  if(i.find('IH')!=-1):\n",
        "    return 'IH'\n",
        "  if(i.find('IC')!=-1):\n",
        "    return 'IC'\n",
        "  if(i.find('十债')!=-1):\n",
        "    return 'T'\n",
        "  if(i.find('黄金')!=-1):\n",
        "    return 'AU'\n",
        "  if(i.find('沪银')!=-1):\n",
        "    return 'AG'\n",
        "  if(i.find('沪铝')!=-1):\n",
        "    return 'AL'\n",
        "  if(i.find('螺纹')!=-1):\n",
        "    return 'RB'\n",
        "  if(i.find('焦炭')!=-1):\n",
        "    return 'J'\n",
        "  if(i.find('焦煤')!=-1):\n",
        "    return 'JM'\n",
        "  if(i.find('动力煤')!=-1):\n",
        "    return 'ZC'\n",
        "  if(i.find('纯睛')!=-1):\n",
        "    return 'SA'\n",
        "  if(i.find('纯碱')!=-1):\n",
        "    return 'SA'\n",
        "  if(i.find('乙二醇')!=-1):\n",
        "    return 'EG'\n",
        "  if(i.find('甲醇')!=-1):\n",
        "    return 'MA'\n",
        "  if(i.find('豆油')!=-1):\n",
        "    return 'Y'\n",
        "  if(i.find('菜油')!=-1):\n",
        "    return 'OI'\n",
        "  if(i.find('铁矿')!=-1):\n",
        "    return 'I'\n",
        "  if(i.find('玻璃')!=-1):\n",
        "    return 'FG'\n",
        "  if(i.find('硅铁')!=-1):\n",
        "    return 'SF'\n",
        "  if(i.find('红枣')!=-1):\n",
        "    return 'CJ'\n",
        "  if(i.find('棕榈油')!=-1):\n",
        "    return 'P'\n",
        "  if(i.find('动煤')!=-1):\n",
        "    return 'ZC'\n",
        "  if(i.find('动l力煤')!=-1):\n",
        "    return 'ZC'\n",
        "  if(i.find('豆粕')!=-1):\n",
        "    return 'M'\n",
        "  if(i.find('沪镍')!=-1):\n",
        "    return 'NI'\n",
        "  if(i.find('沪锡')!=-1):\n",
        "    return 'SN'\n",
        "  if(i.find('郑煤')!=-1):\n",
        "    return 'ZC'\n",
        "  if(i.find('低硫燃油')!=-1):\n",
        "    return 'LU'\n",
        "  if(i.find('沪镍')!=-1):\n",
        "    return 'NI'\n",
        "  if(i.find('棉花')!=-1):\n",
        "    return 'CF'\n",
        "  if(i.find('豆二')!=-1):\n",
        "    return 'B'\n",
        "  if(i.find('锰硅')!=-1):\n",
        "    return 'SM'\n",
        "  if(i.find('沪锌')!=-1):\n",
        "    return 'ZN'\n",
        "  if(i.find('集运')!=-1):\n",
        "    return 'EC'\n",
        "  if(i.find('工业硅')!=-1):\n",
        "    return 'SI'\n",
        "  if(i.find('尿素')!=-1):\n",
        "    return 'UR'\n",
        "  if(i.find('烧碱')!=-1):\n",
        "    return 'SH'\n",
        "  if(i.find('短纤')!=-1):\n",
        "    return 'PF'\n",
        "  if(i.find('沪铅')!=-1):\n",
        "    return 'PB'\n",
        "  if(i.find('淀粉')!=-1):\n",
        "    return 'CS'\n",
        "  if(i.find('苯乙烯')!=-1):\n",
        "    return 'EB'\n",
        "  if(i.find('二债')!=-1):\n",
        "    return 'TS'\n",
        "  if(i.find('白糖')!=-1):\n",
        "    return 'SR'\n",
        "  if(i.find('50上证')!=-1):\n",
        "    return 'IH'\n",
        "  if(i.find('玉米')!=-1):\n",
        "    return 'C'\n",
        "  if(i.find('1000中证')!=-1):\n",
        "    return 'IM'\n",
        "  if(i.find('500中证')!=-1):\n",
        "    return 'IC'\n",
        "  if(i.find('粳米')!=-1):\n",
        "    return 'RR'\n",
        "  if(i.find('300沪深')!=-1):\n",
        "    return 'IF'\n",
        "  if(i.find('对二甲苯')!=-1):\n",
        "    return 'PX'\n",
        "  if(i.find('国际铜')!=-1):\n",
        "    return 'BC'\n",
        "  if(i.find('不锈钢')!=-1):\n",
        "    return 'SS'\n",
        "  if(i.find('豆一')!=-1):\n",
        "    return 'A'\n",
        "  if(i.find('碳酸锂')!=-1):\n",
        "    return 'LC'\n",
        "  if(i.find('沪金')!=-1):\n",
        "    return 'AU'\n",
        "  if(i.find('液化气')!=-1):\n",
        "    return 'PG'\n",
        "  if(i.find('花生')!=-1):\n",
        "    return 'PK'\n",
        "  if(i.find('五债')!=-1):\n",
        "    return 'TF'\n",
        "  #print('！！！！新纪元数据映射缺失，请补充：{0}'.format(i))\n",
        "  return i"
      ],
      "metadata": {
        "id": "Cop_VZwWQr1Q"
      },
      "execution_count": 4,
      "outputs": []
    },
    {
      "cell_type": "code",
      "source": [
        "def get_qhkchlongandshort_qkgy():\n",
        "  url='https://qhkch.com/#/user/home'\n",
        "  browser = google_colab_selenium.UndetectedChrome()\n",
        "  dicorg={}\n",
        "  try:\n",
        "    browser.get(url)\n",
        "    wait = WebDriverWait(browser,30)\n",
        "    wait.until(EC.presence_of_element_located((By.ID,'footer_marquee')))\n",
        "    element=browser.find_element(By.ID, \"footer_marquee\")\n",
        "    content=element.get_attribute('innerText')\n",
        "    list0=content.strip().split('%\\n')\n",
        "    for i in list0:\n",
        "      list1=i.strip().split(' ')\n",
        "      if len(list1)<2 or len(list1[0])<4 or len(list1[1])<2:\n",
        "        continue\n",
        "      key=convertins(list1[0][0:-4])\n",
        "      if key not in dicorg.keys():\n",
        "        dicorg[key]=list1[1][0:2]\n",
        "  except Exception as e:\n",
        "    print(e)\n",
        "  finally:\n",
        "    browser.quit()\n",
        "  return dicorg"
      ],
      "metadata": {
        "id": "eLMMgaDesIez"
      },
      "execution_count": 5,
      "outputs": []
    },
    {
      "cell_type": "code",
      "source": [
        "dic=get_qhkchlongandshort_qkgy()\n",
        "print(dic)"
      ],
      "metadata": {
        "colab": {
          "base_uri": "https://localhost:8080/",
          "height": 76
        },
        "id": "Li1rdPODUFdC",
        "outputId": "9e5ffd2b-09a6-40fb-8a89-6a19223bb552"
      },
      "execution_count": 6,
      "outputs": [
        {
          "output_type": "display_data",
          "data": {
            "text/plain": [
              "<IPython.core.display.HTML object>"
            ],
            "text/html": [
              "\n",
              "            <div class=\"spinner-container\">\n",
              "                <div class=\"spinner\" id=\"825f7d7b-8581-422c-8e5a-6a989febd0d8-circle\"></div>\n",
              "                <div class=\"spinner-text\" id=\"825f7d7b-8581-422c-8e5a-6a989febd0d8-text\">Initializing Chromedriver</div>\n",
              "            </div>\n",
              "            <style>\n",
              "                @keyframes spin {\n",
              "                    from { transform: rotate(0deg); }\n",
              "                    to { transform: rotate(360deg); }\n",
              "                }\n",
              "\n",
              "                .spinner-container {\n",
              "                    display: flex;\n",
              "                    align-items: center;\n",
              "                    margin-bottom: 3px;\n",
              "                }\n",
              "\n",
              "                .spinner {\n",
              "                    border: 3px solid rgba(0, 0, 0, 0.1);\n",
              "                    border-left-color: lightblue;\n",
              "                    border-radius: 50%;\n",
              "                    width: 12px;\n",
              "                    height: 12px;\n",
              "                    animation: spin 1s linear infinite;\n",
              "                }\n",
              "\n",
              "                .spinner-text {\n",
              "                    padding-left: 6px;\n",
              "                }\n",
              "            </style>\n",
              "        "
            ]
          },
          "metadata": {}
        },
        {
          "output_type": "display_data",
          "data": {
            "text/plain": [
              "<IPython.core.display.Javascript object>"
            ],
            "application/javascript": [
              "\n",
              "            const element = document.getElementById(\"825f7d7b-8581-422c-8e5a-6a989febd0d8-circle\");\n",
              "            element.style.border = \"3px solid limegreen\";\n",
              "            element.style.animation = \"none\";\n",
              "\n",
              "            const text = document.getElementById(\"825f7d7b-8581-422c-8e5a-6a989febd0d8-text\");\n",
              "            text.innerText = \"Initialized Chromedriver\";\n",
              "        "
            ]
          },
          "metadata": {}
        },
        {
          "output_type": "stream",
          "name": "stdout",
          "text": [
            "{'EB': '中空', 'JM': '弱多', 'PG': '中空', 'IF': '中空', 'A': '强空', 'BU': '弱空', 'TS': '中性', 'AL': '中性', 'EG': '强空', 'LH': '强空', 'AU': '弱空', 'SP': '中空', 'TA': '中空', 'V': '强空', 'FU': '弱空', 'RB': '弱多', 'SA': '中多', 'B': '中性', 'PX': '中性', 'PB': '中空', 'BC': '弱多', 'UR': '弱多', 'P': '中空', 'AP': '中性', 'OI': '中空', 'SR': '弱空', 'JD': '中空', '低硫油': '弱空', 'SM': '中空', 'J': '弱空', 'PP': '中空', 'TF': '中性', 'MA': '中空', 'CJ': '中性', 'RU': '弱空', 'SS': '中空', 'IH': '强空', 'I': '弱多', 'LC': '中空', 'RM': '弱空', 'M': '中性', '氧化铝': '中空', '20号胶': '中空', 'Y': '弱空', 'C': '弱空', 'IC': '中空', 'L': '中空', 'PF': '弱空', 'CS': '弱空', 'SC': '弱空', 'ZN': '中空', 'IM': '中空', 'CF': '中空', 'EC': '中空', 'SH': '中空', 'CU': '中性', '热卷': '弱空', 'FG': '中空', 'PK': '中空', 'SF': '中空', 'AG': '中性', 'SN': '中空', 'NI': '中空', 'RR': '弱空'}\n"
          ]
        }
      ]
    }
  ]
}