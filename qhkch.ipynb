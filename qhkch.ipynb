{
  "nbformat": 4,
  "nbformat_minor": 0,
  "metadata": {
    "colab": {
      "provenance": [],
      "authorship_tag": "ABX9TyMBFxfpAzOVq2ctoMj4UGIk",
      "include_colab_link": true
    },
    "kernelspec": {
      "name": "python3",
      "display_name": "Python 3"
    },
    "language_info": {
      "name": "python"
    }
  },
  "cells": [
    {
      "cell_type": "markdown",
      "metadata": {
        "id": "view-in-github",
        "colab_type": "text"
      },
      "source": [
        "<a href=\"https://colab.research.google.com/github/626170998/PublicColabScript/blob/master/qhkch.ipynb\" target=\"_parent\"><img src=\"https://colab.research.google.com/assets/colab-badge.svg\" alt=\"Open In Colab\"/></a>"
      ]
    },
    {
      "cell_type": "code",
      "execution_count": 9,
      "metadata": {
        "colab": {
          "base_uri": "https://localhost:8080/"
        },
        "id": "2r5DC4TKPrCY",
        "outputId": "16888eac-83cb-4316-cc74-269c21f2043f"
      },
      "outputs": [
        {
          "output_type": "stream",
          "name": "stdout",
          "text": [
            "Requirement already satisfied: google-colab-selenium[undetected] in /usr/local/lib/python3.10/dist-packages (1.0.10)\n",
            "Requirement already satisfied: selenium in /usr/local/lib/python3.10/dist-packages (from google-colab-selenium[undetected]) (4.15.2)\n",
            "Requirement already satisfied: undetected-chromedriver in /usr/local/lib/python3.10/dist-packages (from google-colab-selenium[undetected]) (3.5.4)\n",
            "Requirement already satisfied: urllib3[socks]<3,>=1.26 in /usr/local/lib/python3.10/dist-packages (from selenium->google-colab-selenium[undetected]) (2.0.7)\n",
            "Requirement already satisfied: trio~=0.17 in /usr/local/lib/python3.10/dist-packages (from selenium->google-colab-selenium[undetected]) (0.23.1)\n",
            "Requirement already satisfied: trio-websocket~=0.9 in /usr/local/lib/python3.10/dist-packages (from selenium->google-colab-selenium[undetected]) (0.11.1)\n",
            "Requirement already satisfied: certifi>=2021.10.8 in /usr/local/lib/python3.10/dist-packages (from selenium->google-colab-selenium[undetected]) (2023.11.17)\n",
            "Requirement already satisfied: requests in /usr/local/lib/python3.10/dist-packages (from undetected-chromedriver->google-colab-selenium[undetected]) (2.31.0)\n",
            "Requirement already satisfied: websockets in /usr/local/lib/python3.10/dist-packages (from undetected-chromedriver->google-colab-selenium[undetected]) (12.0)\n",
            "Requirement already satisfied: attrs>=20.1.0 in /usr/local/lib/python3.10/dist-packages (from trio~=0.17->selenium->google-colab-selenium[undetected]) (23.1.0)\n",
            "Requirement already satisfied: sortedcontainers in /usr/local/lib/python3.10/dist-packages (from trio~=0.17->selenium->google-colab-selenium[undetected]) (2.4.0)\n",
            "Requirement already satisfied: idna in /usr/local/lib/python3.10/dist-packages (from trio~=0.17->selenium->google-colab-selenium[undetected]) (3.6)\n",
            "Requirement already satisfied: outcome in /usr/local/lib/python3.10/dist-packages (from trio~=0.17->selenium->google-colab-selenium[undetected]) (1.3.0.post0)\n",
            "Requirement already satisfied: sniffio>=1.3.0 in /usr/local/lib/python3.10/dist-packages (from trio~=0.17->selenium->google-colab-selenium[undetected]) (1.3.0)\n",
            "Requirement already satisfied: exceptiongroup>=1.0.0rc9 in /usr/local/lib/python3.10/dist-packages (from trio~=0.17->selenium->google-colab-selenium[undetected]) (1.2.0)\n",
            "Requirement already satisfied: wsproto>=0.14 in /usr/local/lib/python3.10/dist-packages (from trio-websocket~=0.9->selenium->google-colab-selenium[undetected]) (1.2.0)\n",
            "Requirement already satisfied: pysocks!=1.5.7,<2.0,>=1.5.6 in /usr/local/lib/python3.10/dist-packages (from urllib3[socks]<3,>=1.26->selenium->google-colab-selenium[undetected]) (1.7.1)\n",
            "Requirement already satisfied: charset-normalizer<4,>=2 in /usr/local/lib/python3.10/dist-packages (from requests->undetected-chromedriver->google-colab-selenium[undetected]) (3.3.2)\n",
            "Requirement already satisfied: h11<1,>=0.9.0 in /usr/local/lib/python3.10/dist-packages (from wsproto>=0.14->trio-websocket~=0.9->selenium->google-colab-selenium[undetected]) (0.14.0)\n",
            "\u001b[33mWARNING: Package(s) not found: webdriver-manager\u001b[0m\u001b[33m\n",
            "\u001b[0mRequirement already satisfied: redis in /usr/local/lib/python3.10/dist-packages (5.0.1)\n",
            "Requirement already satisfied: async-timeout>=4.0.2 in /usr/local/lib/python3.10/dist-packages (from redis) (4.0.3)\n"
          ]
        }
      ],
      "source": [
        "!pip install google-colab-selenium[undetected]\n",
        "!pip show webdriver-manager\n",
        "!pip install redis"
      ]
    },
    {
      "cell_type": "code",
      "source": [
        "import google_colab_selenium\n",
        "\n",
        "from selenium.webdriver.common.by import By\n",
        "from selenium.webdriver.common.keys import Keys\n",
        "from selenium.webdriver.support import expected_conditions as EC\n",
        "from selenium.webdriver.support.wait import WebDriverWait\n",
        "import time\n",
        "import redis\n",
        "import json"
      ],
      "metadata": {
        "id": "gaqHshRTQmgh"
      },
      "execution_count": 10,
      "outputs": []
    },
    {
      "cell_type": "code",
      "source": [
        "def convertins(i):\n",
        "  if(i.find('纸浆')!=-1):\n",
        "    return 'SP'\n",
        "  if(i.find('原油')!=-1):\n",
        "    return 'SC'\n",
        "  if(i.find('沥青')!=-1):\n",
        "    return 'BU'\n",
        "  if(i.find('橡胶')!=-1):\n",
        "    return 'RU'\n",
        "  if(i.find('燃油')!=-1):\n",
        "    return 'FU'\n",
        "  if(i.find('燃料油')!=-1):\n",
        "    return 'FU'\n",
        "  if(i.find('PVC')!=-1):\n",
        "    return 'V'\n",
        "  if(i.find('PTA')!=-1):\n",
        "    return 'TA'\n",
        "  if(i.find('塑料')!=-1):\n",
        "    return 'L'\n",
        "  if(i.find('PP')!=-1):\n",
        "    return 'PP'\n",
        "  if(i.find('LPG')!=-1):\n",
        "    return 'PG'\n",
        "  if(i.find('沪铜')!=-1):\n",
        "    return 'CU'\n",
        "  if(i.find('菜粕')!=-1):\n",
        "    return 'RM'\n",
        "  if(i.find('棕槁油')!=-1):\n",
        "    return 'P'\n",
        "  if(i.find('豆油')!=-1):\n",
        "    return 'Y'\n",
        "  if(i.find('生猪')!=-1):\n",
        "    return 'LH'\n",
        "  if(i.find('苹果')!=-1):\n",
        "    return 'AP'\n",
        "  if(i.find('鸡蛋')!=-1):\n",
        "    return 'JD'\n",
        "  if(i.find('IF')!=-1):\n",
        "    return 'IF'\n",
        "  if(i.find('IH')!=-1):\n",
        "    return 'IH'\n",
        "  if(i.find('IC')!=-1):\n",
        "    return 'IC'\n",
        "  if(i.find('十债')!=-1):\n",
        "    return 'T'\n",
        "  if(i.find('黄金')!=-1):\n",
        "    return 'AU'\n",
        "  if(i.find('沪银')!=-1):\n",
        "    return 'AG'\n",
        "  if(i.find('沪铝')!=-1):\n",
        "    return 'AL'\n",
        "  if(i.find('螺纹')!=-1):\n",
        "    return 'RB'\n",
        "  if(i.find('焦炭')!=-1):\n",
        "    return 'J'\n",
        "  if(i.find('焦煤')!=-1):\n",
        "    return 'JM'\n",
        "  if(i.find('动力煤')!=-1):\n",
        "    return 'ZC'\n",
        "  if(i.find('纯睛')!=-1):\n",
        "    return 'SA'\n",
        "  if(i.find('纯碱')!=-1):\n",
        "    return 'SA'\n",
        "  if(i.find('乙二醇')!=-1):\n",
        "    return 'EG'\n",
        "  if(i.find('甲醇')!=-1):\n",
        "    return 'MA'\n",
        "  if(i.find('豆油')!=-1):\n",
        "    return 'Y'\n",
        "  if(i.find('菜油')!=-1):\n",
        "    return 'OI'\n",
        "  if(i.find('铁矿')!=-1):\n",
        "    return 'I'\n",
        "  if(i.find('玻璃')!=-1):\n",
        "    return 'FG'\n",
        "  if(i.find('硅铁')!=-1):\n",
        "    return 'SF'\n",
        "  if(i.find('红枣')!=-1):\n",
        "    return 'CJ'\n",
        "  if(i.find('棕榈油')!=-1):\n",
        "    return 'P'\n",
        "  if(i.find('动煤')!=-1):\n",
        "    return 'ZC'\n",
        "  if(i.find('动l力煤')!=-1):\n",
        "    return 'ZC'\n",
        "  if(i.find('豆粕')!=-1):\n",
        "    return 'M'\n",
        "  if(i.find('沪镍')!=-1):\n",
        "    return 'NI'\n",
        "  if(i.find('沪锡')!=-1):\n",
        "    return 'SN'\n",
        "  if(i.find('郑煤')!=-1):\n",
        "    return 'ZC'\n",
        "  if(i.find('低硫油')!=-1):\n",
        "    return 'LU'\n",
        "  if(i.find('低硫燃油')!=-1):\n",
        "    return 'LU'\n",
        "  if(i.find('沪镍')!=-1):\n",
        "    return 'NI'\n",
        "  if(i.find('棉花')!=-1):\n",
        "    return 'CF'\n",
        "  if(i.find('豆二')!=-1):\n",
        "    return 'B'\n",
        "  if(i.find('锰硅')!=-1):\n",
        "    return 'SM'\n",
        "  if(i.find('沪锌')!=-1):\n",
        "    return 'ZN'\n",
        "  if(i.find('集运')!=-1):\n",
        "    return 'EC'\n",
        "  if(i.find('工业硅')!=-1):\n",
        "    return 'SI'\n",
        "  if(i.find('尿素')!=-1):\n",
        "    return 'UR'\n",
        "  if(i.find('烧碱')!=-1):\n",
        "    return 'SH'\n",
        "  if(i.find('短纤')!=-1):\n",
        "    return 'PF'\n",
        "  if(i.find('沪铅')!=-1):\n",
        "    return 'PB'\n",
        "  if(i.find('淀粉')!=-1):\n",
        "    return 'CS'\n",
        "  if(i.find('苯乙烯')!=-1):\n",
        "    return 'EB'\n",
        "  if(i.find('二债')!=-1):\n",
        "    return 'TS'\n",
        "  if(i.find('白糖')!=-1):\n",
        "    return 'SR'\n",
        "  if(i.find('50上证')!=-1):\n",
        "    return 'IH'\n",
        "  if(i.find('玉米')!=-1):\n",
        "    return 'C'\n",
        "  if(i.find('1000中证')!=-1):\n",
        "    return 'IM'\n",
        "  if(i.find('500中证')!=-1):\n",
        "    return 'IC'\n",
        "  if(i.find('粳米')!=-1):\n",
        "    return 'RR'\n",
        "  if(i.find('300沪深')!=-1):\n",
        "    return 'IF'\n",
        "  if(i.find('对二甲苯')!=-1):\n",
        "    return 'PX'\n",
        "  if(i.find('国际铜')!=-1):\n",
        "    return 'BC'\n",
        "  if(i.find('不锈钢')!=-1):\n",
        "    return 'SS'\n",
        "  if(i.find('豆一')!=-1):\n",
        "    return 'A'\n",
        "  if(i.find('碳酸锂')!=-1):\n",
        "    return 'LC'\n",
        "  if(i.find('沪金')!=-1):\n",
        "    return 'AU'\n",
        "  if(i.find('液化气')!=-1):\n",
        "    return 'PG'\n",
        "  if(i.find('花生')!=-1):\n",
        "    return 'PK'\n",
        "  if(i.find('五债')!=-1):\n",
        "    return 'TF'\n",
        "  #print('！！！！新纪元数据映射缺失，请补充：{0}'.format(i))\n",
        "  return i"
      ],
      "metadata": {
        "id": "Cop_VZwWQr1Q"
      },
      "execution_count": 11,
      "outputs": []
    },
    {
      "cell_type": "code",
      "source": [
        "def get_qhkchlongandshort_qkgy():\n",
        "  url='https://qhkch.com/#/user/home'\n",
        "  browser = google_colab_selenium.UndetectedChrome()\n",
        "  dicorg={}\n",
        "  try:\n",
        "    browser.get(url)\n",
        "    wait = WebDriverWait(browser,30)\n",
        "    wait.until(EC.presence_of_element_located((By.ID,'footer_marquee')))\n",
        "    element=browser.find_element(By.ID, \"footer_marquee\")\n",
        "    content=element.get_attribute('innerText')\n",
        "    list0=content.replace('乾坤归一综合评级（本数据仅供参考，不构成投资建议）','').strip().split('%\\n')\n",
        "    for i in list0:\n",
        "      list1=i.strip().split(' ')\n",
        "      if len(list1)<2 or len(list1[0])<4 or len(list1[1])<2:\n",
        "        continue\n",
        "      key=convertins(list1[0][0:-4])\n",
        "      if key not in dicorg.keys():\n",
        "        dicorg[key]=list1[1][0:2]\n",
        "  except Exception as e:\n",
        "    print(e)\n",
        "  finally:\n",
        "    browser.quit()\n",
        "  return dicorg"
      ],
      "metadata": {
        "id": "eLMMgaDesIez"
      },
      "execution_count": 12,
      "outputs": []
    },
    {
      "cell_type": "code",
      "source": [
        "def sendredid(data):\n",
        "  host = 'redis-12969.c1.ap-southeast-1-1.ec2.cloud.redislabs.com'\n",
        "  port = 12969\n",
        "  password = 'FEN0FcTv4FSKxjjMzUmAdmhMbgRthNqw'\n",
        "  channelname='qhkch'\n",
        "  try:\n",
        "    pool = redis.ConnectionPool(host=host,port=port,password=password)\n",
        "    rds = redis.Redis(connection_pool=pool)\n",
        "    rds.auto_close_connection_pool = True\n",
        "    rds.set(channelname,json.dumps(data))\n",
        "    rds.connection_pool.disconnect()\n",
        "    #print('rds work ok!')\n",
        "  except Exception as e:\n",
        "    print(e)\n"
      ],
      "metadata": {
        "id": "__FaDyC1cH6o"
      },
      "execution_count": 13,
      "outputs": []
    },
    {
      "cell_type": "code",
      "source": [
        "sendredid({'1':'1','2':'2'})\n",
        "sendredid([1,2,3,4,5])"
      ],
      "metadata": {
        "id": "keE5US5OnfoZ"
      },
      "execution_count": 14,
      "outputs": []
    },
    {
      "cell_type": "code",
      "source": [
        "data=get_qhkchlongandshort_qkgy()\n",
        "print(data)\n",
        "if(len(data)==0):\n",
        "  print('get_qhkchlongandshort_qkgy 获取失败')\n",
        "else:\n",
        "  sendredid(data)\n",
        "\n"
      ],
      "metadata": {
        "id": "Ujo_J-Zrd3We",
        "outputId": "57b414b7-de2f-47c8-caa2-a9494156e2cc",
        "colab": {
          "base_uri": "https://localhost:8080/",
          "height": 76
        }
      },
      "execution_count": 16,
      "outputs": [
        {
          "output_type": "display_data",
          "data": {
            "text/plain": [
              "<IPython.core.display.HTML object>"
            ],
            "text/html": [
              "\n",
              "            <div class=\"spinner-container\">\n",
              "                <div class=\"spinner\" id=\"c6c8d5f4-a978-4a6a-ac10-8f49fc0f2244-circle\"></div>\n",
              "                <div class=\"spinner-text\" id=\"c6c8d5f4-a978-4a6a-ac10-8f49fc0f2244-text\">Initializing Chromedriver</div>\n",
              "            </div>\n",
              "            <style>\n",
              "                @keyframes spin {\n",
              "                    from { transform: rotate(0deg); }\n",
              "                    to { transform: rotate(360deg); }\n",
              "                }\n",
              "\n",
              "                .spinner-container {\n",
              "                    display: flex;\n",
              "                    align-items: center;\n",
              "                    margin-bottom: 3px;\n",
              "                }\n",
              "\n",
              "                .spinner {\n",
              "                    border: 3px solid rgba(0, 0, 0, 0.1);\n",
              "                    border-left-color: lightblue;\n",
              "                    border-radius: 50%;\n",
              "                    width: 12px;\n",
              "                    height: 12px;\n",
              "                    animation: spin 1s linear infinite;\n",
              "                }\n",
              "\n",
              "                .spinner-text {\n",
              "                    padding-left: 6px;\n",
              "                }\n",
              "            </style>\n",
              "        "
            ]
          },
          "metadata": {}
        },
        {
          "output_type": "display_data",
          "data": {
            "text/plain": [
              "<IPython.core.display.Javascript object>"
            ],
            "application/javascript": [
              "\n",
              "            const element = document.getElementById(\"c6c8d5f4-a978-4a6a-ac10-8f49fc0f2244-circle\");\n",
              "            element.style.border = \"3px solid limegreen\";\n",
              "            element.style.animation = \"none\";\n",
              "\n",
              "            const text = document.getElementById(\"c6c8d5f4-a978-4a6a-ac10-8f49fc0f2244-text\");\n",
              "            text.innerText = \"Initialized Chromedriver\";\n",
              "        "
            ]
          },
          "metadata": {}
        },
        {
          "output_type": "stream",
          "name": "stdout",
          "text": [
            "{'BU': '中空', 'SN': '弱空', 'PX': '中性', 'SH': '中空', 'FG': '弱空', '氧化铝': '弱空', 'CS': '弱空', 'PB': '中空', 'TS': '弱空', 'IC': '弱空', 'EG': '强空', 'OI': '强空', 'B': '中性', 'CF': '中空', 'LH': '中空', 'SS': '中空', 'JM': '中性', 'PG': '中空', 'CJ': '中性', 'IH': '中空', 'SC': '中空', 'RU': '弱空', 'SM': '强空', 'LC': '中空', 'ZN': '中空', 'TF': '中性', 'I': '中性', 'RR': '弱空', 'FU': '弱空', 'AP': '弱空', 'M': '弱空', 'SF': '强空', '热卷': '弱空', 'TA': '中空', 'J': '中空', 'Y': '弱空', 'A': '中空', 'LU': '弱空', 'PK': '弱空', 'NI': '弱空', 'AU': '中性', 'EC': '中空', 'AL': '弱空', 'RM': '弱空', 'CU': '中性', 'PP': '强空', 'MA': '弱空', 'AG': '中性', 'V': '强空', 'JD': '弱空', 'BC': '弱空', 'IM': '中空', 'L': '中空', 'EB': '中空', 'PF': '中空', 'C': '中空', 'SR': '中空', '20号胶': '中空', 'UR': '弱多', 'SP': '中空', 'P': '中空', 'IF': '中空', 'RB': '中性'}\n"
          ]
        }
      ]
    }
  ]
}